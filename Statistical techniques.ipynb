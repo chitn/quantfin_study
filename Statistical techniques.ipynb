{
 "cells": [
  {
   "cell_type": "markdown",
   "metadata": {},
   "source": [
    "Statistical analysis used for Marketing Analytics\n",
    "\n",
    "- **Multi-variate models** identify the relationship between a group of explanatory variables (eg, billing, call center operations, on-site service or employee performance) and the variable of interest (eg, profitability by customer segment);\n",
    "- **Market segmentation** divide the market into groups that are like-minded enough that all customers in a given segment can be marketed to as if they were a single entity, the methodology for segmentation is cluster analysis or discriminate analysis;\n",
    "- **Conjoint and discrete-choice models** \n",
    "- **Structural-equation models** invoke a powerful, visually represented, multivariate analysis technique that combines factor analysis and regression to study direct and indirect relationships between variables of interest (eg, customer characteristics and experiences and perceptions of the value of their relationship with an energy supplier);\n",
    "- **Time-series forecasting** identify trends or patterns in data over time and predicts or forecasts future values (e.g., forecasting the need for waste water treatment plant capacity based on predicted water use);\n",
    "- **Log-linear models** employ a sophisticated way to analyze cross-classification tables and test interactions between variables for statistical significance (eg, the test for the existence of a disparate impact of airline baggage screening procedures on selected minority groups in the passenger population)\n",
    "- **Survival analysis** focuses on time as the variable of interest, such as the study of the ‘survival’ i.e. retention rate of particular customers."
   ]
  },
  {
   "cell_type": "code",
   "execution_count": null,
   "metadata": {},
   "outputs": [],
   "source": []
  },
  {
   "cell_type": "code",
   "execution_count": null,
   "metadata": {},
   "outputs": [],
   "source": []
  }
 ],
 "metadata": {
  "kernelspec": {
   "display_name": "Python 3",
   "language": "python",
   "name": "python3"
  },
  "language_info": {
   "codemirror_mode": {
    "name": "ipython",
    "version": 3
   },
   "file_extension": ".py",
   "mimetype": "text/x-python",
   "name": "python",
   "nbconvert_exporter": "python",
   "pygments_lexer": "ipython3",
   "version": "3.7.4"
  }
 },
 "nbformat": 4,
 "nbformat_minor": 2
}
